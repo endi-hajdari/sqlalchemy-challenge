{
 "cells": [
  {
   "cell_type": "code",
   "execution_count": null,
   "metadata": {},
   "outputs": [],
   "source": [
    "# Importing dependencies\n",
    "%matplotlib inline\n",
    "from matplotlib import style\n",
    "style.use('fivethirtyeight')\n",
    "import matplotlib.pyplot as plt"
   ]
  },
  {
   "cell_type": "code",
   "execution_count": null,
   "metadata": {},
   "outputs": [],
   "source": [
    "# Importing dependencies\n",
    "import numpy as np\n",
    "import pandas as pd\n",
    "import datetime as dt"
   ]
  },
  {
   "cell_type": "markdown",
   "metadata": {},
   "source": [
    "# Reflect Tables into SQLAlchemy ORM"
   ]
  },
  {
   "cell_type": "code",
   "execution_count": null,
   "metadata": {},
   "outputs": [],
   "source": [
    "# Python SQL toolkit and Object Relational Mapper\n",
    "import sqlalchemy\n",
    "from sqlalchemy.ext.automap import automap_base\n",
    "from sqlalchemy.orm import Session\n",
    "from sqlalchemy import create_engine, func"
   ]
  },
  {
   "cell_type": "code",
   "execution_count": null,
   "metadata": {},
   "outputs": [],
   "source": [
    "# Creating engine to hawaii.sqlite\n",
    "engine = create_engine(\"sqlite:///Resources/hawaii.sqlite\")"
   ]
  },
  {
   "cell_type": "code",
   "execution_count": null,
   "metadata": {},
   "outputs": [],
   "source": [
    "# Reflecting an existing database into a new model\n",
    "Base = automap_base()\n",
    "\n",
    "# Reflecting the tables\n",
    "Base.prepare(autoload_with=engine)"
   ]
  },
  {
   "cell_type": "code",
   "execution_count": null,
   "metadata": {},
   "outputs": [],
   "source": [
    "# Viewing all of the classes that automap found\n",
    "Base.classes.keys()"
   ]
  },
  {
   "cell_type": "code",
   "execution_count": null,
   "metadata": {},
   "outputs": [],
   "source": [
    "# Saving the references to each table\n",
    "measurement = Base.classes.measurement\n",
    "station = Base.classes.station"
   ]
  },
  {
   "cell_type": "code",
   "execution_count": null,
   "metadata": {},
   "outputs": [],
   "source": [
    "# Creating our session (link) from Python to the database\n",
    "session = Session(engine)\n",
    "session.execute('SELECT * FROM measurement LIMIT 5').fetchall()"
   ]
  },
  {
   "cell_type": "markdown",
   "metadata": {},
   "source": [
    "# Exploratory Precipitation Analysis"
   ]
  },
  {
   "cell_type": "code",
   "execution_count": null,
   "metadata": {},
   "outputs": [],
   "source": [
    "# Finding the most recent date in the data set\n",
    "most_recent_date = session.query(measurement.date).order_by(measurement.date.desc()).first()[0]"
   ]
  },
  {
   "cell_type": "code",
   "execution_count": null,
   "metadata": {},
   "outputs": [],
   "source": [
    "# Designing a query to retrieve the last 12 months of precipitation data and plot the results\n",
    "# Starting from the most recent data point in the database\n",
    "\n",
    "# Calculating the date one year from the last date in data set\n",
    "ld = most_recent_date - dt.timedelta(days=365)\n",
    "\n",
    "# Perform a query to retrieve the data and precipitation scores\n",
    "precipitation_scores = (session.query(measurement.date, measurement.prcp).filter(measurement.date > ld).order_by(measurement.date).all())\n",
    "\n",
    "# Saving the query results as a Pandas DataFrame and set the index to the date column\n",
    "precipitation_scores_df = pd.DataFrame(precipitation_scores, columns=[\"Date\",\"Precipitation Amount\"])\n",
    "precipitation_scores_df[\"Date\"] = pd.to_datetime(precipitation_scores_df[\"Date\"])\n",
    "\n",
    "# Sorting the Pandas DataFrame by date\n",
    "precipitation_scores_df = precipitation_scores_df.sort_values(\"Date\")\n",
    "\n",
    "#  Plotting the data using Matplotlib\n",
    "precipitation_scores_df.plot(color='b')\n",
    "\n",
    "# Adding a title to the plot\n",
    "plt.title(\"Precipitation as a Function of Time\")\n",
    "\n",
    "# Adding horizontal and vertical labels to the plot\n",
    "plt.xlabel(\"Days\")\n",
    "plt.ylabel(\"Precipitation Amount (in mm\")"
   ]
  },
  {
   "cell_type": "code",
   "execution_count": null,
   "metadata": {},
   "outputs": [],
   "source": [
    "# Using Pandas to calcualte the summary statistics for the precipitation data\n",
    "precipitation_scores_df.describe()"
   ]
  },
  {
   "cell_type": "markdown",
   "metadata": {},
   "source": [
    "# Exploratory Station Analysis"
   ]
  },
  {
   "cell_type": "code",
   "execution_count": null,
   "metadata": {},
   "outputs": [],
   "source": [
    "# Designing a query to calculate the total number stations in the dataset\n",
    "session.execute('SELECT * FROM station LIMIT 5').fetchall()\n",
    "tot_stations = session.query(station).count()\n",
    "print(f'The total number stations found in the dataset is {tot_stations}')"
   ]
  },
  {
   "cell_type": "code",
   "execution_count": null,
   "metadata": {},
   "outputs": [],
   "source": [
    "# Designing a query to find the most active stations (i.e., what stations have the most rows?)\n",
    "# Listing the stations and the counts in descending order\n",
    "act_stations = (\n",
    "            session.query(measurement.station, station.name,func.count(measurement.id))\n",
    "            .filter(measurement.station == station.station)\n",
    "            .group_by(measurement.station)\n",
    "            .order_by(func.count(measurement.id).desc())\n",
    "            .all()\n",
    "            )\n",
    "print(f'The most active stations are:{act_stations}')"
   ]
  },
  {
   "cell_type": "code",
   "execution_count": null,
   "metadata": {},
   "outputs": [],
   "source": [
    "# Using the most active station id from the previous query, calculate the lowest, highest, and average temperature.\n",
    "temp = (\n",
    "        session.query(\n",
    "        func.min(measurement.tobs),        \n",
    "        func.max(measurement.tobs),    \n",
    "        func.avg(measurement.tobs),    \n",
    ")\n",
    "        .filter(measurement.station == act_stations [0][0])\n",
    "        .all()\n",
    ")\n",
    "print(\n",
    "    f\"The most active station is {act_stations[0][0]} - {act_stations[0][1]}. These are its records:\"\n",
    ")\n",
    "print(f\"Lowest Temperature: {temp[0][0]}F\")\n",
    "print(f\"Highest Temperature: {temp[0][1]}F\")\n",
    "print(f\"Average Temperature: {temp[0][2]}F\")"
   ]
  },
  {
   "cell_type": "code",
   "execution_count": null,
   "metadata": {},
   "outputs": [],
   "source": [
    "# Using the most active station id\n",
    "# Querying the last 12 months of temperature observation data for this station and plotting the results as a histogram\n",
    "temperature_results = (\n",
    "    session.query(measurement.date, measurement.tobs)\n",
    "    .filter(measurement.date > last_year)\n",
    "    .filter(measurement.station == active_stations[0][0])\n",
    "    .order_by(measurement.date)\n",
    "    .all()\n",
    ")\n",
    "\n",
    "# Convert query object to dataframe\n",
    "temperature_df = pd.DataFrame(temperature_results)\n",
    "temperature_df = temperature_df.set_index(\"date\").sort_index(ascending=True)\n",
    "\n",
    "\n",
    "# Rendering the Histogram plot\n",
    "temperature_df.plot(kind=\"hist\", color=\"green\", bins=12, alpha=0.85)\n",
    "\n",
    "# Adding title to the plot\n",
    "plt.title(f\"Histogram of the Average Temperature for last year\\n at station - {act_stations[0][0]}\")\n",
    "\n",
    "# Adding horizontal and vertical axes labels to the plot\n",
    "plt.xlabel(\"Temperature (F)\")\n",
    "plt.ylabel(\"Frequency\")"
   ]
  },
  {
   "cell_type": "code",
   "execution_count": null,
   "metadata": {},
   "outputs": [],
   "source": [
    "# Closing Session\n",
    "session.close()"
   ]
  }
 ],
 "metadata": {
  "anaconda-cloud": {},
  "kernel_info": {
   "name": "python3"
  },
  "kernelspec": {
   "display_name": "Python 3.8.9 64-bit",
   "language": "python",
   "name": "python3"
  },
  "language_info": {
   "codemirror_mode": {
    "name": "ipython",
    "version": 3
   },
   "file_extension": ".py",
   "mimetype": "text/x-python",
   "name": "python",
   "nbconvert_exporter": "python",
   "pygments_lexer": "ipython3",
   "version": "3.8.9"
  },
  "nteract": {
   "version": "0.12.3"
  },
  "varInspector": {
   "cols": {
    "lenName": 16,
    "lenType": 16,
    "lenVar": 40
   },
   "kernels_config": {
    "python": {
     "delete_cmd_postfix": "",
     "delete_cmd_prefix": "del ",
     "library": "var_list.py",
     "varRefreshCmd": "print(var_dic_list())"
    },
    "r": {
     "delete_cmd_postfix": ") ",
     "delete_cmd_prefix": "rm(",
     "library": "var_list.r",
     "varRefreshCmd": "cat(var_dic_list()) "
    }
   },
   "types_to_exclude": [
    "module",
    "function",
    "builtin_function_or_method",
    "instance",
    "_Feature"
   ],
   "window_display": false
  },
  "vscode": {
   "interpreter": {
    "hash": "31f2aee4e71d21fbe5cf8b01ff0e069b9275f58929596ceb00d14d90e3e16cd6"
   }
  }
 },
 "nbformat": 4,
 "nbformat_minor": 2
}
